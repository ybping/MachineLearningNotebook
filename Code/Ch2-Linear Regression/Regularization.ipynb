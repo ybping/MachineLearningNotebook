{
 "cells": [
  {
   "cell_type": "markdown",
   "metadata": {},
   "source": [
    "# Regularization \n",
    "A collection of techniques that can be used to prevent over- tting. Regularization adds information to a problem, often in the form of a penalty against complexity, to a problem. \n",
    "\n",
    "Occam's razor states that a hypothesis with the fewest assumptions is the best. Accordingly, regularization attempts to  nd the simplest model that explains the data."
   ]
  },
  {
   "cell_type": "markdown",
   "metadata": {},
   "source": [
    "## Ridge regression\n",
    "Also known as Tikhonov regularization, penalizes model parameters that become too large. \n",
    "\n",
    "Ridge regression modifies the residual sum of the squares cost function by adding the L2 norm of the coef cients, as follows:\n",
    "\n",
    "$RSS_{ridge} = \\sum_{i=1}^n(y_i−x_i^Tβ)^2+λ\\sum_j^pβ_j^2$"
   ]
  },
  {
   "cell_type": "markdown",
   "metadata": {},
   "source": [
    "# Least Absolute Shrinkage and Selection Operator (LASSO). \n",
    "LASSO penalizes the coeficients by adding their L1 norm to the cost function, as follows:\n",
    "\n",
    "$RSS_{lasso} =\\sum_{i=1}^n(y_i−x_i^Tβ)^2 + λ\\sum_j^pβ_j$\n",
    "\n",
    "The LASSO produces sparse parameters; most of the coeficients will become zero,and the model will depend on a small subset of the features. "
   ]
  },
  {
   "cell_type": "markdown",
   "metadata": {},
   "source": [
    "## Elastic Net\n",
    "When explanatory variables are correlated, the LASSO will shrink the coef cients of one variable toward zero. Ridge regression will shrink them more uniformly. Finally, scikit-learn provides an implementation of elastic net regularization, which linearly combines the L1 and L2 penalties used by the LASSO and ridge regression. "
   ]
  },
  {
   "cell_type": "code",
   "execution_count": null,
   "metadata": {
    "collapsed": true
   },
   "outputs": [],
   "source": []
  }
 ],
 "metadata": {
  "kernelspec": {
   "display_name": "Python 2",
   "language": "python",
   "name": "python2"
  },
  "language_info": {
   "codemirror_mode": {
    "name": "ipython",
    "version": 2
   },
   "file_extension": ".py",
   "mimetype": "text/x-python",
   "name": "python",
   "nbconvert_exporter": "python",
   "pygments_lexer": "ipython2",
   "version": "2.7.13"
  }
 },
 "nbformat": 4,
 "nbformat_minor": 2
}
