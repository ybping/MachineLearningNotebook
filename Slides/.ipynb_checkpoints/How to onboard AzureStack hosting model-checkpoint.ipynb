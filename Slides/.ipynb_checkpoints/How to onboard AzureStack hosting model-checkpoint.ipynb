{
 "cells": [
  {
   "cell_type": "markdown",
   "metadata": {},
   "source": [
    "## 1. Define Service Fabric Service type\n",
    "\n",
    "### 1.1 Add the directory, more info: [doc](https://docs.microsoft.com/en-us/azure/service-fabric/service-fabric-service-manifest-resources \"doc\")\n",
    "\n",
    "```\n",
    "PackageRoot/\n",
    "|-- Config  // not required\n",
    "|   `-- Settings.xml\n",
    "|-- Data    // not required\n",
    "|   |-- operations\n",
    "|   |   `-- microsoft.computer.2015-06-15.json\n",
    "|   |-- rpMetadata.json\n",
    "|   `-- rpconfigurations.json\n",
    "`-- ServiceManifest.xml    // `required`\n",
    "\n",
    "3 directories, 5 files\n",
    "```\n"
   ]
  },
  {
   "cell_type": "markdown",
   "metadata": {},
   "source": [
    "### 1.2 Definie ServiceManifest.xml\n",
    "\n",
    "#### 1.2.1 Define ServiceType\n",
    "\n",
    "```xml\n",
    "<ServiceTypes>\n",
    "    <StatelessServiceType ServiceTypeName=\"AzureStackMetricsMPServiceType\" />\n",
    "</ServiceTypes>\n",
    "```  \n",
    "\n",
    "#### 1.2.2 Define EntryPoint\n",
    "\n",
    "```xml\n",
    "<EntryPoint>\n",
    "  <ExeHost>\n",
    "    <Program>Microsoft.AzureStack.Common.Infrastructure.HostModel.ServiceFabricHost.exe</Program>\n",
    "    <!--\n",
    "      Enable following line to redirect console output to local trace files, only for debug purpose.\n",
    "    -->\n",
    "    <ConsoleRedirection FileRetentionCount=\"5\" FileMaxSizeInKb=\"128\" />\n",
    "  </ExeHost>\n",
    "</EntryPoint>\n",
    "```\n",
    "\n",
    "#### 1.2.3 Define Endpoint\n",
    "\n",
    "```xml\n",
    "<Endpoints>\n",
    "    <Endpoint Name=\"ServiceEndpoint\" Protocol=\"http[s]\" Type=\"Input\" Port=\"44390\"/>\n",
    "</Endpoints>\n",
    "```\n"
   ]
  },
  {
   "cell_type": "markdown",
   "metadata": {},
   "source": [
    "### 1.3 Implement IWebApiService Interface\n",
    "\n",
    "```c#\n",
    "/// <summary>\n",
    "/// Defines a baseline service serving http requests via WebApi\n",
    "/// </summary>\n",
    "/// <typeparam name=\"TDependency\">Type of dependencies</typeparam>\n",
    "public interface IWebApiService<TDependency> : IService<TDependency>\n",
    "    where TDependency : IDependency\n",
    "{\n",
    "    /// <summary>\n",
    "    /// Registers service surface in passed configuration.\n",
    "    /// This method is expected to configure the WebApi behavior, \n",
    "    /// including dependency injection, controller resolution, routing, etc.\n",
    "    /// </summary>\n",
    "    /// <param name=\"httpConfiguration\">The HTTP configuration.</param>\n",
    "    /// <param name=\"httpListenerConfiguration\">The HTTP listener configuration.</param>\n",
    "    void Register(HttpConfiguration httpConfiguration, IHttpListenerConfiguration httpListenerConfiguration);\n",
    "}\n",
    "```\n"
   ]
  },
  {
   "cell_type": "markdown",
   "metadata": {},
   "source": [
    "## 2. Define Serice Fabric Application Type\n",
    "\n",
    "```\n",
    ".\n",
    "|-- ApplicationPackageRoot  \n",
    "|   `-- ApplicationManifest.xml\n",
    "|-- ApplicationParameters \n",
    "|   |-- Cloud.xml\n",
    "|   `-- Local.xml\n",
    "|-- MetricsMPApp.csproj \n",
    "`-- PublishProfiles\n",
    "    |-- Cloud.xml\n",
    "    `-- Local.xml\n",
    "\n",
    "3 directories, 6 files\n",
    "```\n",
    "\n",
    "### 2.1 Define Policies\n",
    "\n",
    "```xml\n",
    "<Policies>\n",
    "  <RunAsPolicy CodePackageRef=\"Code\" UserRef=\"RunASAccount\" />\n",
    "  <!--EndpointBindingPolicy is needed the EndpointName is secured with https -->\n",
    "  <EndpointBindingPolicy EndpointRef=\"ServiceEndpoint\" CertificateRef=\"MetricsMpServiceCert\" />\n",
    "</Policies>\n",
    "\n",
    "<Certificates>\n",
    "  <EndpointCertificate X509FindValue=\"[EndpointCertThumbprint]\" Name=\"MetricsMpServiceCert\" />\n",
    "</Certificates>\n",
    "```\n",
    "\n",
    "### 2.2 Definie principals\n",
    "\n",
    "```xml\n",
    "<Principals>\n",
    "    <Users>\n",
    "      <User Name=\"RunASAccount\" AccountType=\"ManagedServiceAccount\" AccountName=\"[AzureStackMetricsMP_Runas]\" />\n",
    "    </Users>\n",
    "</Principals>\n",
    "```\n",
    "\n",
    "### 2.3 Definie Parameters\n",
    "\n",
    "```xml\n",
    "<Parameters>\n",
    "    <Parameter Name=\"InstanceCount\" DefaultValue=\"[1, -1]\" />\n",
    "    <Parameter Name=\"AzureStackMetricsMP_Runas\" DefaultValue=\"\" />\n",
    "    <Parameter Name=\"EndpointCertThumbprint\" DefaultValue=\"\" />\n",
    "    <Parameter Name=\"AuthorizedGroups\" DefaultValue=\"\" />\n",
    "    <Parameter Name=\"EnablePrivateEndpointAuthorization\" DefaultValue=\"false\" />\n",
    "</Parameters>\n",
    " ```"
   ]
  },
  {
   "cell_type": "markdown",
   "metadata": {},
   "source": [
    "### 3 Example\n",
    "\n",
    "[MetricsMp](https://msazure.visualstudio.com/DefaultCollection/One/_git/AzureStack-Services-AzureMonitor#version=GBdev&_a=contents)"
   ]
  },
  {
   "cell_type": "code",
   "execution_count": null,
   "metadata": {
    "collapsed": true
   },
   "outputs": [],
   "source": []
  }
 ],
 "metadata": {
  "kernelspec": {
   "display_name": "Python 2",
   "language": "python",
   "name": "python2"
  },
  "language_info": {
   "codemirror_mode": {
    "name": "ipython",
    "version": 2
   },
   "file_extension": ".py",
   "mimetype": "text/x-python",
   "name": "python",
   "nbconvert_exporter": "python",
   "pygments_lexer": "ipython2",
   "version": "2.7.13"
  }
 },
 "nbformat": 4,
 "nbformat_minor": 2
}
